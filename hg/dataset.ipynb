{
 "cells": [
  {
   "cell_type": "code",
   "execution_count": null,
   "metadata": {},
   "outputs": [],
   "source": [
    "from datasets import load_dataset\n",
    "# url = \"https://the-eye.eu/public/AI/pile_preliminary_components/NIH_ExPORTER_awarded_grant_text.jsonl.zst\"\n",
    "# nih_dataset = load_dataset(\"csv\", data_files=url, split= \"train\")\n",
    "nih_dataset_streamed = load_dataset(\"suolyer/pile_nih-exporter\", split=\"validation\")\n",
    "\n",
    "\n",
    "nih_dataset_streamed"
   ]
  },
  {
   "cell_type": "code",
   "execution_count": null,
   "metadata": {},
   "outputs": [],
   "source": [
    "import psutil\n",
    "\n",
    "print(f\"RAM used: {psutil.Process().memory_info().rss / (1024 * 1024):.2f} MB\")\n",
    "\n",
    "print(f\"Number of files in dataset : {nih_dataset_streamed.dataset_size:_}\")\n",
    "\n",
    "size_gb = nih_dataset_streamed.dataset_size / (1024**3)\n",
    "print(f\"Dataset size (cache file) : {size_gb:.2f} GB\")"
   ]
  },
  {
   "cell_type": "code",
   "execution_count": null,
   "metadata": {},
   "outputs": [],
   "source": [
    "import timeit\n",
    "\n",
    "code_snippet = \"\"\"batch_size = 1000\n",
    "\n",
    "for idx in range(0, len(nih_dataset), batch_size):\n",
    "    _ = nih_dataset[idx:idx + batch_size]\n",
    "\"\"\"\n",
    "\n",
    "time = timeit.timeit(stmt=code_snippet, number=1, globals=globals())\n",
    "print(\n",
    "    f\"Iterated over {len(nih_dataset_streamed)} examples (about {size_gb:.1f} GB) in \"\n",
    "    f\"{time:.1f}s, i.e. {size_gb/time:.3f} GB/s\"\n",
    ")"
   ]
  },
  {
   "cell_type": "code",
   "execution_count": null,
   "metadata": {},
   "outputs": [],
   "source": [
    "# stream\n",
    "\n",
    "from datasets import load_dataset\n",
    "\n",
    "nih_dataset_streamed = load_dataset(\"suolyer/pile_nih-exporter\", split=\"validation\", streaming=True)\n",
    "\n",
    "nih_dataset_streamed"
   ]
  },
  {
   "cell_type": "code",
   "execution_count": null,
   "metadata": {},
   "outputs": [],
   "source": [
    "next(iter(nih_dataset_streamed)) "
   ]
  },
  {
   "cell_type": "code",
   "execution_count": null,
   "metadata": {},
   "outputs": [],
   "source": [
    "shuffled_dataset = nih_dataset_streamed.shuffle(buffer_size=10_000, seed=5566)\n",
    "next(iter(shuffled_dataset))"
   ]
  },
  {
   "cell_type": "code",
   "execution_count": null,
   "metadata": {},
   "outputs": [],
   "source": [
    "from datasets import load_dataset\n",
    "dataset = load_dataset('oscar', 'unshuffled_deduplicated_en', streaming=True, split='train', trust_remote_code=True)\n",
    "start_with_ar = dataset.filter(lambda example: example['text'].startswith('Ar'))\n",
    "next(iter(start_with_ar))"
   ]
  },
  {
   "cell_type": "code",
   "execution_count": null,
   "metadata": {},
   "outputs": [],
   "source": [
    "even_dataset = dataset.filter(lambda example, idx: idx % 2 == 0, with_indices=True)\n",
    "list(even_dataset.take(3))"
   ]
  },
  {
   "cell_type": "code",
   "execution_count": null,
   "metadata": {},
   "outputs": [],
   "source": [
    "list(dataset.skip(1000).take(3))"
   ]
  },
  {
   "cell_type": "code",
   "execution_count": null,
   "metadata": {},
   "outputs": [],
   "source": [
    "from datasets import interleave_datasets\n",
    "combined_dataset = interleave_datasets([dataset.take(3), dataset.skip(4).take(3)])\n",
    "list(combined_dataset)"
   ]
  }
 ],
 "metadata": {
  "kernelspec": {
   "display_name": "mle-misc-GnC41mwT-py3.11",
   "language": "python",
   "name": "python3"
  },
  "language_info": {
   "codemirror_mode": {
    "name": "ipython",
    "version": 3
   },
   "file_extension": ".py",
   "mimetype": "text/x-python",
   "name": "python",
   "nbconvert_exporter": "python",
   "pygments_lexer": "ipython3",
   "version": "3.11.5"
  }
 },
 "nbformat": 4,
 "nbformat_minor": 2
}
